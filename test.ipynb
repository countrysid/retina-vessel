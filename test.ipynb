{
 "cells": [
  {
   "cell_type": "code",
   "execution_count": 7,
   "metadata": {},
   "outputs": [
    {
     "name": "stdout",
     "output_type": "stream",
     "text": [
      "Fold 0:\n",
      "  Train indices: [2 3 4 5]\n",
      "  Test indices: [0 1]\n",
      "Fold 1:\n",
      "  Train indices: [0 1 4 5]\n",
      "  Test indices: [2 3]\n",
      "Fold 2:\n",
      "  Train indices: [0 1 2 3]\n",
      "  Test indices: [4 5]\n"
     ]
    }
   ],
   "source": [
    "from sklearn.model_selection import KFold\n",
    "import numpy as np\n",
    "\n",
    "# Example data\n",
    "X = np.array([[1, 2], [3, 4], [5, 6], [7, 8], [9, 10],[10, 11]])\n",
    "y = np.array([0, 1, 0, 1, 0])\n",
    "\n",
    "# Initialize KFold with shuffle=True\n",
    "kfold = KFold(n_splits=3, shuffle=False)\n",
    "\n",
    "# Get the indices for each fold\n",
    "for fold, (train_index, test_index) in enumerate(kfold.split(X)):\n",
    "    print(f\"Fold {fold}:\")\n",
    "    print(f\"  Train indices: {train_index}\")\n",
    "    print(f\"  Test indices: {test_index}\")\n"
   ]
  },
  {
   "cell_type": "code",
   "execution_count": 9,
   "metadata": {},
   "outputs": [
    {
     "name": "stdout",
     "output_type": "stream",
     "text": [
      "False Positive Rates (FPR): [0.         0.         0.33333333 0.33333333 1.        ]\n",
      "True Positive Rates (TPR): [0.  0.5 0.5 1.  1. ]\n",
      "Thresholds: [1.8  0.8  0.4  0.35 0.1 ]\n"
     ]
    }
   ],
   "source": [
    "import numpy as np\n",
    "from sklearn import metrics\n",
    "\n",
    "# Example data\n",
    "y = np.array([1, 1, 2, 2, 1])\n",
    "scores = np.array([0.1, 0.4, 0.35, 0.8,0.3])\n",
    "\n",
    "# Compute ROC curve\n",
    "fpr, tpr, thresholds = metrics.roc_curve(y, scores, pos_label=2)\n",
    "\n",
    "# Example output\n",
    "print(\"False Positive Rates (FPR):\", fpr)\n",
    "print(\"True Positive Rates (TPR):\", tpr)\n",
    "print(\"Thresholds:\", thresholds)\n"
   ]
  },
  {
   "cell_type": "code",
   "execution_count": 17,
   "metadata": {},
   "outputs": [
    {
     "name": "stdout",
     "output_type": "stream",
     "text": [
      "The length of the list is: 116\n"
     ]
    }
   ],
   "source": [
    "list =[0.        , 0.00561798, 0.0505618 , 0.0505618 , 0.11235955,\n",
    "        0.11235955, 0.14606742, 0.14606742, 0.16853933, 0.16853933,\n",
    "        0.19101124, 0.19101124, 0.2247191 , 0.2247191 , 0.26966292,\n",
    "        0.26966292, 0.29213483, 0.29213483, 0.30337079, 0.30337079,\n",
    "        0.3258427 , 0.3258427 , 0.33707865, 0.33707865, 0.37078652,\n",
    "        0.37078652, 0.37640449, 0.37640449, 0.42696629, 0.42696629,\n",
    "        0.43258427, 0.43258427, 0.47752809, 0.47752809, 0.48314607,\n",
    "        0.48314607, 0.49438202, 0.49438202, 0.50561798, 0.50561798,\n",
    "        0.51123596, 0.51123596, 0.5505618 , 0.5505618 , 0.55617978,\n",
    "        0.55617978, 0.57865169, 0.57865169, 0.58426966, 0.58426966,\n",
    "        0.59550562, 0.59550562, 0.6011236 , 0.6011236 , 0.60674157,\n",
    "        0.60674157, 0.62359551, 0.62359551, 0.66853933, 0.66853933,\n",
    "        0.6741573 , 0.6741573 , 0.68539326, 0.68539326, 0.69662921,\n",
    "        0.69662921, 0.75280899, 0.75280899, 0.76404494, 0.76404494,\n",
    "        0.7752809 , 0.7752809 , 0.79213483, 0.79213483, 0.79775281,\n",
    "        0.79775281, 0.80898876, 0.80898876, 0.82022472, 0.82022472,\n",
    "        0.8258427 , 0.8258427 , 0.83146067, 0.83146067, 0.83707865,\n",
    "        0.83707865, 0.84269663, 0.84269663, 0.86516854, 0.86516854,\n",
    "        0.88202247, 0.88202247, 0.8988764 , 0.8988764 , 0.91573034,\n",
    "        0.91573034, 0.92134831, 0.92134831, 0.92696629, 0.92696629,\n",
    "        0.93258427, 0.93258427, 0.9494382 , 0.9494382 , 0.96067416,\n",
    "        0.96067416, 0.97752809, 0.97752809, 0.98314607, 0.98314607,\n",
    "        0.98876404, 0.98876404, 0.99438202, 0.99438202, 1.        ,\n",
    "        1.        ]\n",
    "list_length = len(list)\n",
    "print(f\"The length of the list is: {list_length}\")"
   ]
  }
 ],
 "metadata": {
  "kernelspec": {
   "display_name": "Python 3",
   "language": "python",
   "name": "python3"
  },
  "language_info": {
   "codemirror_mode": {
    "name": "ipython",
    "version": 3
   },
   "file_extension": ".py",
   "mimetype": "text/x-python",
   "name": "python",
   "nbconvert_exporter": "python",
   "pygments_lexer": "ipython3",
   "version": "3.9.13"
  }
 },
 "nbformat": 4,
 "nbformat_minor": 2
}
