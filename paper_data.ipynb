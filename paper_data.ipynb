{
 "cells": [
  {
   "cell_type": "code",
   "execution_count": 38,
   "metadata": {},
   "outputs": [],
   "source": [
    "#计算Perason相关系数\n",
    "import pandas as pd\n",
    "import matplotlib.pyplot as plt\n",
    "import seaborn as sns\n",
    "from scipy import stats\n",
    "import numpy as np\n",
    "#统计模型\n",
    "import statsmodels.api as sm\n",
    "#用来显示中文标签\n",
    "plt.rcParams['font.sans-serif']=['SimHei']\n",
    "#用来正常显示负号\n",
    "plt.rcParams['axes.unicode_minus']=False \n",
    "#导入数据\n",
    "df1 = pd.read_excel('去除重复数据眼底和临床.xlsx',sheet_name=\"眼底和临床清洗\")\n",
    "# df2 = pd.read_excel('D:\\DataProcessingLocal\\logic_regression\\左右眼取均值和Gensini及临床指标.xlsx',sheet_name=\"临床资料\")"
   ]
  },
  {
   "cell_type": "code",
   "execution_count": 39,
   "metadata": {},
   "outputs": [
    {
     "name": "stdout",
     "output_type": "stream",
     "text": [
      "<class 'pandas.core.frame.DataFrame'>\n",
      "RangeIndex: 1479 entries, 0 to 1478\n",
      "Data columns (total 29 columns):\n",
      " #   Column                Non-Null Count  Dtype  \n",
      "---  ------                --------------  -----  \n",
      " 0   病例号                   1479 non-null   object \n",
      " 1   age                   1446 non-null   float64\n",
      " 2   gender                1446 non-null   float64\n",
      " 3   吸烟状态（1从不吸烟2目前吸烟3已戒烟）  1446 non-null   float64\n",
      " 4   饮酒（1从不饮酒2,目前饮酒3已戒酒）   1446 non-null   float64\n",
      " 5   早发心血管病家族史（1是2否）       1479 non-null   int64  \n",
      " 6   身高cm                  1311 non-null   float64\n",
      " 7   体重kg                  1259 non-null   float64\n",
      " 8   静息心率                  1326 non-null   float64\n",
      " 9   收缩压                   1309 non-null   float64\n",
      " 10  舒张压                   1309 non-null   float64\n",
      " 11  高血压（0无1有）             1446 non-null   float64\n",
      " 12  糖尿病（0无1有）             1446 non-null   float64\n",
      " 13  总胆固醇                  1424 non-null   float64\n",
      " 14  空腹血糖                  1425 non-null   float64\n",
      " 15  Gensini               1410 non-null   float64\n",
      " 16  *肌酐(酶法)               1417 non-null   float64\n",
      " 17  *尿酸                   1417 non-null   float64\n",
      " 18  颞上动静脉管径比              1451 non-null   float64\n",
      " 19  颞下动静脉管径比              1451 non-null   float64\n",
      " 20  颞上CRAE                1451 non-null   float64\n",
      " 21  颞下CRAE                1451 non-null   float64\n",
      " 22  颞上CRVE                1451 non-null   float64\n",
      " 23  颞下CRVE                1451 non-null   float64\n",
      " 24  动脉分形维数                1451 non-null   float64\n",
      " 25  静脉分形维数                1451 non-null   float64\n",
      " 26  动脉弯曲度                 1451 non-null   float64\n",
      " 27  静脉弯曲度                 1451 non-null   float64\n",
      " 28  y                     1451 non-null   float64\n",
      "dtypes: float64(27), int64(1), object(1)\n",
      "memory usage: 335.2+ KB\n"
     ]
    }
   ],
   "source": [
    "df1.info()"
   ]
  },
  {
   "cell_type": "code",
   "execution_count": 40,
   "metadata": {},
   "outputs": [
    {
     "name": "stdout",
     "output_type": "stream",
     "text": [
      "age                     0.065875\n",
      "gender                 -0.241637\n",
      "吸烟状态（1从不吸烟2目前吸烟3已戒烟）    0.192072\n",
      "饮酒（1从不饮酒2,目前饮酒3已戒酒）     0.075605\n",
      "早发心血管病家族史（1是2否）              NaN\n",
      "身高cm                    0.117156\n",
      "体重kg                    0.124207\n",
      "静息心率                   -0.031447\n",
      "收缩压                    -0.002016\n",
      "舒张压                    -0.046781\n",
      "高血压（0无1有）               0.031090\n",
      "糖尿病（0无1有）               0.010929\n",
      "总胆固醇                   -0.168001\n",
      "空腹血糖                    0.139409\n",
      "Gensini                 1.000000\n",
      "*肌酐(酶法)                 0.213971\n",
      "*尿酸                     0.050294\n",
      "颞上动静脉管径比               -0.098141\n",
      "颞下动静脉管径比               -0.097975\n",
      "颞上CRAE                 -0.072733\n",
      "颞下CRAE                 -0.072354\n",
      "颞上CRVE                 -0.017569\n",
      "颞下CRVE                 -0.029156\n",
      "动脉分形维数                 -0.060392\n",
      "静脉分形维数                 -0.035454\n",
      "动脉弯曲度                  -0.058984\n",
      "静脉弯曲度                  -0.004180\n",
      "y                       1.000000\n",
      "Name: y, dtype: float64\n"
     ]
    }
   ],
   "source": [
    "#查看相关性矩阵\n",
    "# print(df1.corr())\n",
    "#查看y和其他指标的相关性\n",
    "print(df1.corr()['y'])"
   ]
  },
  {
   "cell_type": "code",
   "execution_count": 43,
   "metadata": {},
   "outputs": [
    {
     "name": "stdout",
     "output_type": "stream",
     "text": [
      "颞上动静脉管径比相关系数为-0.067,p值为0.01192\n",
      "颞上CRAE相关系数为-0.040,p值为0.13912\n"
     ]
    },
    {
     "name": "stderr",
     "output_type": "stream",
     "text": [
      "C:\\Users\\count\\AppData\\Local\\Temp\\ipykernel_2180\\2265910500.py:7: SettingWithCopyWarning: \n",
      "A value is trying to be set on a copy of a slice from a DataFrame\n",
      "\n",
      "See the caveats in the documentation: https://pandas.pydata.org/pandas-docs/stable/user_guide/indexing.html#returning-a-view-versus-a-copy\n",
      "  df2.drop(indexNames , inplace=True)\n"
     ]
    }
   ],
   "source": [
    "#使用scipy中的函数计算各指标和y的相关系数及显著性\n",
    "#不能有空值\n",
    "df2 = df1.dropna(axis=0,subset = [\"颞上动静脉管径比\", \"y\"])   # 丢弃这两列中有缺失值的行 \n",
    "#删除为0的值\n",
    "indexNames = df2[ df2['颞上动静脉管径比'] == 0 ].index\n",
    "# Delete these row indexes from dataFrame\n",
    "df2.drop(indexNames , inplace=True)\n",
    "# df2[\"y\"].describe()\n",
    "r,p_value = stats.pearsonr(df2['颞上动静脉管径比'],df2['y'])\n",
    "print('颞上动静脉管径比相关系数为{:.3f},p值为{:.5f}'.format(r,p_value))\n",
    "r,p_value = stats.pearsonr(df2['颞上CRAE'],df2['y'])\n",
    "print('颞上CRAE相关系数为{:.3f},p值为{:.5f}'.format(r,p_value))"
   ]
  },
  {
   "cell_type": "code",
   "execution_count": 44,
   "metadata": {},
   "outputs": [
    {
     "data": {
      "text/plain": [
       "Text(0.5, 1.0, '默认情况下')"
      ]
     },
     "execution_count": 44,
     "metadata": {},
     "output_type": "execute_result"
    },
    {
     "data": {
      "image/png": "[encoded data removed]",
      "text/plain": [
       "<Figure size 640x480 with 1 Axes>"
      ]
     },
     "metadata": {},
     "output_type": "display_data"
    }
   ],
   "source": [
    "plt.subplots_adjust(wspace=0.5,hspace=0.5)\n",
    "plt.scatter(df2['y'],df2['颞上动静脉管径比'])\n",
    "plt.title(\"默认情况下\")"
   ]
  }
 ],
 "metadata": {
  "kernelspec": {
   "display_name": "paddlecpu",
   "language": "python",
   "name": "python3"
  },
  "language_info": {
   "codemirror_mode": {
    "name": "ipython",
    "version": 3
   },
   "file_extension": ".py",
   "mimetype": "text/x-python",
   "name": "python",
   "nbconvert_exporter": "python",
   "pygments_lexer": "ipython3",
   "version": "3.9.13"
  }
 },
 "nbformat": 4,
 "nbformat_minor": 2
}
